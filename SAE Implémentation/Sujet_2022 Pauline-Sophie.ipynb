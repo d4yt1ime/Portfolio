{
 "cells": [
  {
   "cell_type": "markdown",
   "metadata": {
    "deletable": false,
    "editable": false,
    "run_control": {
     "frozen": true
    }
   },
   "source": [
    "# <center> Etude de communautés dans un réseau social</center>\n",
    "<center> SAE 1.01 / 2022 - 23 </center>\n",
    "\n"
   ]
  },
  {
   "cell_type": "markdown",
   "metadata": {
    "deletable": false,
    "editable": false,
    "run_control": {
     "frozen": true
    }
   },
   "source": [
    "Cette SAE est à faire en **binôme**.\n",
    "\n",
    "**Calendrier**\n",
    "- Un contrôle de 2h en lien avec le contenu de cette SAE aura lieu le mercredi **26 octobre** 2022.\n",
    "- Le projet est à rendre le vendredi **28 octobre** 2022. Les modalités de rendu vous seront précisées par votre enseignant.\n",
    "\n",
    "**Evaluation**\n",
    "- Le projet comptera pour 40% de la note de SAE 1.01. <BR>\n",
    "    Il sera particulièrement tenu compte de la qualité du code, des **commentaires** et **docstrings**, des fonctions de **tests unitaires** pour les fonctions renvoyant des résultats. <BR><BR>\n",
    "    \n",
    "- Le contrôle compte pour 60% de la note finale."
   ]
  },
  {
   "cell_type": "markdown",
   "metadata": {
    "deletable": false,
    "editable": false,
    "run_control": {
     "frozen": true
    }
   },
   "source": [
    "## <center> Sujet </center>\n",
    "\n",
    "Une *communauté* est un ensemble de personnes développant des interactions dans un réseau social.\n",
    "\n",
    "Dans ce projet, on étudie des communautés modélisées sous différentes formes. Pour cela, on développe des fonctions permettant d'extraire des informations relatives à ces réseaux. "
   ]
  },
  {
   "cell_type": "markdown",
   "metadata": {
    "deletable": false,
    "editable": false,
    "run_control": {
     "frozen": true
    }
   },
   "source": [
    "On modélise, dans un premier temps, les interactions entre personnes dans un tableau `amis` de chaînes de caractères contenant les prénoms des membres du réseau et tel que `amis[2*i]` a des interactions avec `amis[2*i+1]`.\n",
    "\n",
    "On suppose que chaque interaction n'est décrite qu'une seule fois dans le tableau, et qu'une personne n'a pas d'interaction avec elle-même.\n",
    "\n",
    "**Exemple** : "
   ]
  },
  {
   "cell_type": "code",
   "execution_count": 5,
   "metadata": {
    "deletable": false,
    "editable": false
   },
   "outputs": [],
   "source": [
    "amis = [\"Alice\", \"Bob\", \"Alice\", \"Charlie\", \"Bob\", \"Denis\"]"
   ]
  },
  {
   "cell_type": "markdown",
   "metadata": {
    "deletable": false,
    "editable": false,
    "run_control": {
     "frozen": true
    }
   },
   "source": [
    "Ici, \n",
    "- Alice a des interactions Bob et Charlie, \n",
    "- Bob a des intractions avec Alice et Denis,\n",
    "- Charlie a des interactions avec Alice et\n",
    "- Denis a des interactions avec Bob."
   ]
  },
  {
   "cell_type": "markdown",
   "metadata": {
    "deletable": false,
    "editable": false,
    "run_control": {
     "frozen": true
    }
   },
   "source": [
    "#### Question préliminaire : Modélisation d'un réseau par un tableau\n",
    "\n",
    "Muriel, Yasmine et Joël sont amis. Yasmine est amie avec Thomas. \n",
    "Joël, Nassim, Andrea et Ali sont amis. Thomas est ami de Daria et Carole. Thierry, Axel et Léo sont amis. Léo est ami de Valentin qui est ami d'Andrea.\n",
    "\n",
    "- Construire un tableau `p_amis` qui modélise ce réseau d'amitié en selon le principe qui vient d'être décrit."
   ]
  },
  {
   "cell_type": "code",
   "execution_count": 2,
   "metadata": {},
   "outputs": [],
   "source": [
    "#Création d'un tableau modélisant le réseau d'amitié\n",
    "p_amis=['Muriel','Yasmine','Muriel','Joël','Yasmine','Joël','Yasmine','Thomas','Thomas','Daria','Thomas','Carole',\n",
    "       'Joël','Nassim','Joël','Andrea','Joël','Ali','Nassim','Andrea','Nassim','Ali','Andrea','Ali','Andrea',\n",
    "        'Valentin','Léo','Valentin','Léo','Thierry','Léo','Axel','Thierry','Axel']"
   ]
  },
  {
   "cell_type": "markdown",
   "metadata": {
    "deletable": false,
    "editable": false,
    "run_control": {
     "frozen": true
    }
   },
   "source": [
    "#### Question 1 : Nombre d'amis d'une personne\n",
    "\n",
    "- Étant donné un tableau `amis`, écrire une fonction `nb_amis(amis, prenom)` qui retourne le nombre d'amis de `prenom` à partir des données du tableau `amis`. "
   ]
  },
  {
   "cell_type": "code",
   "execution_count": 6,
   "metadata": {
    "scrolled": true
   },
   "outputs": [
    {
     "name": "stdout",
     "output_type": "stream",
     "text": [
      "Test de la fonction : OK\n"
     ]
    }
   ],
   "source": [
    "def nb_amis(amis, prenom): #On définit une fonction 'nb_amis' qui prend comme paramètres 'amis' et 'prenom'\n",
    "    ###DOCSTRINGS###\n",
    "    \"\"\"\n",
    "    Il s'agit d'une fonction permettant de retourner le nombre \n",
    "    d'amis de 'prenom' à partir des données du tableau 'amis'\n",
    "    \n",
    "    Arguments :\n",
    "    amis -- les données d'un tableau \n",
    "    prenom -- prénom d'une personne dans le tableau (chaîne de caractères)\n",
    "    \"\"\"\n",
    "    #Séquence d'instructions de la fonction \n",
    "    i = 0 \n",
    "    n = 0\n",
    "    while i < len(amis): #Boucle permettant de retourner le nombre d'amis de 'prenom' à partir du tableau 'amis'\n",
    "        if prenom == amis[i]:\n",
    "            n += 1\n",
    "        i += 1 \n",
    "    return n \n",
    "\n",
    "###########################\n",
    "######TESTS UNITAIRES######\n",
    "###########################\n",
    "def test_nb_amis():\n",
    "    assert nb_amis(amis,'Alice')==2 \n",
    "    assert nb_amis(amis,'Bob')==2\n",
    "    assert nb_amis(amis,'Charlie')==1\n",
    "    assert nb_amis(amis,'Denis')==1\n",
    "    print(\"Test de la fonction : OK\")\n",
    "    \n",
    "test_nb_amis()"
   ]
  },
  {
   "cell_type": "markdown",
   "metadata": {
    "deletable": false,
    "editable": false,
    "run_control": {
     "frozen": true
    }
   },
   "source": [
    "#### Question 2 : Nombre de membres d'un réseau social \n",
    "\n",
    "- Ecrire une fonction `taille_reseau(amis)` qui à partir d'un tableau `amis`retourne le nombre de personnes distinctes participant à ce réseau social."
   ]
  },
  {
   "cell_type": "code",
   "execution_count": 7,
   "metadata": {},
   "outputs": [
    {
     "name": "stdout",
     "output_type": "stream",
     "text": [
      "Test de la fonction : OK\n"
     ]
    }
   ],
   "source": [
    "def taille_reseau(amis): #On définit une fonction 'taille_reseau' qui prend comme paramètres 'amis'\n",
    "    ###DOCSTRINGS###\n",
    "    \"\"\"\n",
    "    Cette fonction prend en paramètre un tableau et retourne \n",
    "    le nombre de personnes distinctes participant à ce réseau social\n",
    "    \n",
    "    Arguments : \n",
    "    amis -- données d'un tableau \n",
    "    \"\"\"\n",
    "    #Séquence d'instructions de la fonction\n",
    "    i = 0 \n",
    "    n = 0 \n",
    "    tab = [] #On déclare un tableau vide \n",
    "    while i < len(amis): #Boucle qui retourne le nombre de personnes distinctes participant à ce réseau social dans le tableau vide 'tab' si elle n'est pas dedans\n",
    "        if amis[i] not in tab: \n",
    "            tab.append(amis[i])\n",
    "            n+=1\n",
    "        i+=1\n",
    "    return n \n",
    "\n",
    "###########################\n",
    "######TESTS UNITAIRES######\n",
    "###########################\n",
    "def test_taille_reseau():\n",
    "    assert taille_reseau(p_amis)==13\n",
    "    assert taille_reseau(amis)==4\n",
    "    print(\"Test de la fonction : OK\")\n",
    "    \n",
    "test_taille_reseau()"
   ]
  },
  {
   "cell_type": "markdown",
   "metadata": {
    "deletable": false,
    "editable": false,
    "run_control": {
     "frozen": true
    }
   },
   "source": [
    "#### Question 3 :  Lecture des données d'un réseau à partir d'un fichier\n",
    "On suppose que les données sur un réseau social sont stockées dans un fichier CSV de la manière suivante :\n",
    "```\n",
    "prenom1;prenom2\n",
    "prenom3;prenom4\n",
    "prenom5;prenom6\n",
    "...\n",
    "```\n",
    "Autrement dit, chaque ligne du fichier contient une paire de prénoms séparés par un `';'` correspondant à deux personnes ayant des interactions. \n",
    "\n",
    "**NB** : Quatre fichiers CSV de ce type sont fournis dans le répertoire `files/`, il s'agit des fichiers`Communaute1.csv`, `Communaute2.csv`,`Communaute3.csv` et `Communaute4.csv`. \n",
    "Il est recommandé d'en fabriquer d'autres. \n",
    "\n",
    "- Ecrire une fonction `lecture_reseau(path)` prenant en paramètre un chemin vers un tel fichier CSV et retournant un tableau modélisant les interactions entre les personnes du fichier."
   ]
  },
  {
   "cell_type": "code",
   "execution_count": 8,
   "metadata": {
    "scrolled": true
   },
   "outputs": [
    {
     "name": "stdout",
     "output_type": "stream",
     "text": [
      "Test de la fonction : OK\n"
     ]
    }
   ],
   "source": [
    "def lecture_reseau(path): #On définit une fonction 'lecture_reseau' qui prend comme paramètres 'path'\n",
    "    ###DOCSTRINGS###\n",
    "    \"\"\"\n",
    "    Cette fonction prend en paramètre un chemin vers un fichier CSV et \n",
    "    retourne un tableau modélisant les interations entre les personnes du fichier\n",
    "    \n",
    "    Arguments : \n",
    "    path -- chemin vers le fichier CSV \n",
    "    \"\"\"\n",
    "    #Séquence d'instructions de la fonction\n",
    "    t=[]\n",
    "    f=open(path, encoding='utf-8', mode='r')#ouverture du fichier CSV en mode lecture\n",
    "    li=f.readline()\n",
    "    while ( li != '' ): #tant que le fichier n'est pas vide alors lecture des données ligne par ligne dans un fichier CSV et que l'on retourne dans un tableau, les différentes interactions.\n",
    "        li=li.strip()\n",
    "        t_li=li.split(';')\n",
    "        t.append(t_li[0])\n",
    "        t.append(t_li[1])\n",
    "        li=f.readline()\n",
    "    f.close()#fermeture du fichier CSV\n",
    "    return t\n",
    "\n",
    "###########################\n",
    "######TESTS UNITAIRES######\n",
    "###########################\n",
    "def test_lecture_reseau():\n",
    "    assert lecture_reseau('./newfiles/Communaute2.csv')==['Mady', 'Zayneb', 'Honorata', 'Iagan', 'Cain', 'Satchel', 'Honorata', 'Petru', 'Damhnait', 'Áron', 'Aimee', 'Kirsa', 'Chatzkel', 'Liesa', 'Idelle', 'Keith', 'Lizzy', 'Vittorio', 'Gaétan', 'Salomão', 'Björn', 'Grwn', 'Amadeo', 'Cloe', 'Grwn', 'Pavao', 'Hagir', 'Ramsay', 'Gaétan', 'Liesa', 'Damhnait', 'Vittore', 'Hagir', 'Imane', 'Dragan', 'Mireille', 'Despoina', 'Gawel', 'Phuong', 'Ramsay', 'Argus', 'Dragan', 'Cameron', 'Mélanie', 'Barbra', 'Louis', 'Lujayn', 'Séléna', 'Dragan', 'Évike', 'Barbra', 'Dragan', 'Barbra', 'Glenys', 'Sabino', 'Shayla', 'Bridger', 'Glenys', 'Honorata', 'Mireille', 'Duff', 'Ixchel', 'Cloe', 'Louis', 'Olavi', 'Vibol', 'Christ', 'Gaétan', 'Duff', 'Ramsay', 'Mireille', 'Phuong', 'Gergõ', 'Glenys', 'Pavao', 'Yassin', 'Lizzy', 'Mélanie', 'Despoina', 'Marwa', 'Illtyd', 'Lizzy', 'Finn', 'Placide', 'Giedrius', 'Vibol', 'Gawel', 'Iagan', 'Despoina', 'Stéphanie', 'Howell', 'Olavi', 'Keld', 'Mady', 'Montserrat', 'Silviu', 'Ixchel', 'Shayla', 'Grwn', 'Illtyd', 'Louis', 'Placide', 'Chatzkel', 'Shirine', 'Iagan', 'Phuong', 'Amadeo', 'Glenys', 'Jakob', 'Lizzy', 'Cain', 'Gawel', 'Keld', 'Lalie', 'Draco', 'Gawel', 'Imane', 'Ixchel', 'Hagir', 'Pavao', 'Aliya', 'Zayneb', 'Gaétan', 'Olavi', 'Argus', 'Satchel', 'Imane', 'Ágoston', 'Lizzy', 'Shayla', 'Glenys', 'Séléna', 'Cain', 'Olavi', 'Dragan', 'Imane', 'Edmonda', 'Sabino', 'Marwa', 'Séléna', 'Liesa', 'Marwa', 'Hagir', 'Simo', 'Ambrogio', 'Gaétan', 'Aimee', 'Honorata', 'Naheed', 'Shayla', 'Amadeo', 'Damhnait', 'Dany', 'Mady', 'Björn', 'Évike', 'Dragan', 'Salomão', 'Björn', 'Vittore', 'Petru', 'Shayla', 'Aliya', 'Áron', 'Eliezer', 'Glenys', 'Christ', 'Gawel', 'Kirsa', 'Papillion', 'Gaétan', 'Sabino', 'Björn', 'Dany', 'Barbra', 'Christ', 'Christ', 'Vibol', 'Jakob', 'Ziva', 'Glenys', 'Imane', 'Christ', 'Dany', 'Gergõ', 'Édouard', 'Barbra', 'Natasa', 'Emmy', 'Stéphanie', 'Christ', 'Iagan', 'Björn', 'Gergõ', 'Lalie', 'Salomão', 'Aimee', 'Imane', 'Gordon', 'Natasa', 'Ixchel', 'Menashe', 'Aimee', 'Menashe', 'Argus', 'Duff', 'Draco', 'Gordon', 'Amadeo', 'Phuong', 'Gawel', 'Évike', 'Aimee', 'Finn', 'Silviu', 'Stéphanie', 'Christ', 'Vittore', 'Iagan', 'Pavao', 'Keith', 'Naheed', 'Barbra', 'Grwn', 'Cloe', 'Illtyd', 'Glenys', 'Idelle', 'Damhnait', 'Placide', 'Mady', 'Placide', 'Edmonda', 'Epaphroditos', 'Draco', 'Epaphroditos', 'Chatzkel', 'Keith', 'Emmy', 'Griffith', 'Gawel', 'Gaétan', 'Jacaline', 'Keld', 'Menashe', 'Placide', 'Faizel', 'Imane', 'Keld', 'Mélanie', 'Emmy', 'Imane', 'Björn', 'Illtyd', 'Olavi', 'Petru', 'Finn', 'Lujayn', 'Gordon', 'Ixchel', 'Pavao', 'Ziva', 'Dragan', 'Edmonda', 'Cloe', 'Liesa', 'Ziva', 'Áron', 'Lalie', 'Silviu', 'Cowal', 'Edmonda', 'Jakob', 'Vittorio', 'Damhnait', 'Gawel', 'Faizel', 'Lizzy', 'Cardea', 'Séverin', 'Ixchel', 'Séléna', 'Christ', 'Séléna', 'Duff', 'Grwn', 'Ramsay', 'Vibol', 'Petru', 'Phuong', 'Amadeo', 'Faizel', 'Ambrogio', 'Petru', 'Lujayn', 'Rufino', 'Jari', 'Lizzy', 'Honorata', 'Menashe', 'Kirsa', 'Petru', 'Dany', 'Pavao', 'Phuong', 'Vittorio', 'Pavao', 'Vittore', 'Lujayn', 'Silviu', 'Emmy', 'Shirine', 'Chatzkel', 'Dany', 'Glenys', 'Zayneb', 'Imane', 'Simo', 'Gordon', 'Séléna', 'Idelle', 'Imane', 'Argus', 'Epaphroditos', 'Amadeo', 'Draco', 'Dragan', 'Keith', 'Ixchel', 'Mireille', 'Eliezer', 'Ágoston', 'Dany', 'Vittore', 'Petru', 'Sabino', 'Rufino', 'Vittorio', 'Keith', 'Sabino', 'Natasa', 'Papillion', 'Edmonda', 'Natasa', 'Isolde', 'Lizzy', 'Duff', 'Glenys', 'Spiridon', 'Édouard', 'Dany', 'Draco', 'Ambrogio', 'Faizel', 'Mady', 'Yassin', 'Cain', 'Hagir', 'Iagan', 'Stéphanie', 'Cain', 'Vibol', 'Epaphroditos', 'Gaétan', 'Christ', 'Glenys', 'Aïcha', 'Dragan', 'Aïcha', 'Isolde', 'Menashe', 'Shirine', 'Aïcha', 'Epaphroditos', 'Aïcha', 'Gawel', 'Chatzkel', 'Kirsa', 'Glenys', 'Jakob', 'Björn', 'Honorata', 'Mélanie', 'Placide', 'Ilies', 'Séverin', 'Gergõ', 'Gordon', 'Aimee', 'Louis', 'Idelle', 'Natasa', 'Ambrogio', 'Liesa', 'Kirsa', 'Olavi', 'Gawel', 'Hagir', 'Mady', 'Séléna', 'Cain', 'Papillion', 'Mireille', 'Salomão', 'Ilies', 'Petru', 'Epaphroditos', 'Glenys', 'Cain', 'Dragan', 'Cain', 'Epaphroditos', 'Mireille', 'Stéphanie', 'Bridger', 'Mireille', 'Séléna', 'Vittore', 'Aimee', 'Spiridon', 'Amadeo', 'Ambrogio', 'Argus', 'Évike', 'Liesa', 'Pavao', 'Lizzy', 'Salomão', 'Emmy', 'Évike', 'Gordon', 'Illtyd', 'Dragan', 'Vibol', 'Illtyd', 'Salomão', 'Edmonda', 'Liesa', 'Mady', 'Natasa', 'Gawel', 'Papillion', 'Aimee', 'Lujayn', 'Cain', 'Séléna', 'Glenys', 'Keld', 'Faizel', 'Áron', 'Björn', 'Silviu', 'Ambrogio', 'Placide', 'Houda', 'Shirine', 'Aïcha', 'Olavi', 'Placide', 'Shayla', 'Barbra', 'Vittore', 'Dragan', 'Satchel', 'Illtyd', 'Louis', 'Menashe', 'Spiridon', 'Barbra', 'Évike', 'Iagan', 'Zayneb', 'Argus', 'Papillion', 'Gawel', 'Olavi', 'Emmy', 'Áron', 'Aimee', 'Howell', 'Placide', 'Vibol', 'Petru', 'Silviu', 'Cain', 'Mady', 'Epaphroditos', 'Mireille', 'Dany', 'Montserrat', 'Chatzkel', 'Emmy', 'Damhnait', 'Ágoston', 'Petru', 'Ziva', 'Dragan', 'Emmy', 'Olavi', 'Séléna', 'Lilas', 'Mady', 'Faizel', 'Papillion', 'Hagir', 'Mireille', 'Chatzkel', 'Draco', 'Bridger', 'Dany', 'Faizel', 'Spiridon', 'Chatzkel', 'Shayla', 'Ambrogio', 'Aïcha', 'Faizel', 'Ziva', 'Argus', 'Ramsay', 'Chatzkel', 'Zayneb', 'Barbra', 'Idelle', 'Lujayn', 'Spiridon', 'Draco', 'Rufino', 'Damhnait', 'Grwn', 'Jacaline', 'Séléna', 'Dragan', 'Petru', 'Grwn', 'Mady', 'Menashe', 'Vittorio', 'Nolann', 'Placide', 'Finn', 'Séléna', 'Placide', 'Vittorio', 'Damhnait', 'Séléna', 'Menashe', 'Séléna', 'Idelle', 'Vittorio', 'Mélanie', 'Salomão', 'Nazim', 'Évike', 'Bridger', 'Shayla', 'Christ', 'Jari', 'Mady', 'Petru', 'Kirsa', 'Sabino', 'Lizzy', 'Ágoston', 'Draco', 'Montserrat', 'Vittore', 'Édouard', 'Christ', 'Grwn', 'Lalie', 'Vibol', 'Keld', 'Vittore', 'Grwn', 'Liesa', 'Draco', 'Séverin', 'Finn', 'Shayla', 'Cloe', 'Pavao', 'Imane', 'Placide', 'Mélanie', 'Shirine', 'Dany', 'Papillion', 'Iagan', 'Nolann', 'Barbra', 'Illtyd', 'Hagir', 'Ixchel', 'Christ', 'Ilies', 'Christ', 'Silviu', 'Hagir', 'Silviu', 'Faizel', 'Keld', 'Cowal', 'Honorata', 'Iagan', 'Vittore', 'Gaétan', 'Pavao', 'Phuong', 'Ziva', 'Christ', 'Évike', 'Emmy', 'Epaphroditos', 'Gaétan', 'Évike', 'Silviu', 'Vibol', 'Edmonda', 'Séléna', 'Mireille', 'Évike', 'Finn', 'Shirine', 'Damhnait', 'Ixchel', 'Nazim', 'Zayneb', 'Silviu', 'Spiridon', 'Björn', 'Gordon', 'Bridger', 'Olavi', 'Amadeo', 'Duff', 'Damhnait', 'Draco', 'Ambrogio', 'Howell', 'Dany', 'Ágoston', 'Petru', 'Vittore', 'Honorata', 'Imane', 'Christ', 'Édouard', 'Jakob', 'Édouard', 'Björn', 'Iagan', 'Idelle', 'Pavao', 'Illtyd', 'Shayla', 'Montserrat', 'Mélanie', 'Gaétan', 'Keld', 'Pavao', 'Spiridon', 'Damhnait', 'Jakob', 'Aïcha', 'Shayla', 'Chatzkel', 'Howell', 'Ixchel', 'Jakob', 'Amadeo', 'Mélanie', 'Louis', 'Petru', 'Barbra', 'Iagan', 'Edmonda', 'Eliezer', 'Glenys', 'Lujayn', 'Imane', 'Stéphanie', 'Montserrat', 'Simo', 'Cain', 'Silviu', 'Keith', 'Kirsa', 'Idelle', 'Mireille', 'Lizzy', 'Vittore', 'Houda', 'Évike', 'Cain', 'Petru', 'Chatzkel', 'Édouard', 'Gergõ', 'Howell', 'Faizel', 'Lalie', 'Sabino', 'Vittorio', 'Cain', 'Jari', 'Epaphroditos', 'Howell', 'Louis', 'Évike', 'Jakob', 'Louis', 'Amadeo', 'Dragan', 'Silviu', 'Simo', 'Duff', 'Epaphroditos', 'Lizzy', 'Vibol', 'Dragan', 'Iagan', 'Lalie', 'Sabino', 'Aïcha', 'Lizzy', 'Hagir', 'Sabino', 'Ambrogio', 'Lalie', 'Edmonda', 'Menashe', 'Mélanie', 'Vittore', 'Bridger', 'Vibol', 'Louis', 'Naheed', 'Amadeo', 'Aïcha', 'Amadeo', 'Natasa', 'Björn', 'Séléna', 'Cameron', 'Dany', 'Gawel', 'Menashe', 'Aimee', 'Salomão', 'Natasa', 'Évike', 'Chatzkel', 'Giedrius', 'Placide', 'Áron', 'Olavi', 'Vittorio', 'Isolde', 'Mady', 'Imane', 'Mady', 'Gordon', 'Vibol', 'Duff', 'Silviu', 'Cowal', 'Jakob', 'Jakob', 'Olavi', 'Imane', 'Phuong', 'Aimee', 'Lalie', 'Argus', 'Howell', 'Lujayn', 'Shirine', 'Gaétan', 'Édouard', 'Argus', 'Edmonda', 'Kirsa', 'Áron', 'Draco', 'Ixchel', 'Illtyd', 'Phuong', 'Barbra', 'Mireille', 'Ambrogio', 'Yassin', 'Damhnait', 'Lizzy', 'Illtyd', 'Spiridon', 'Ixchel', 'Liesa', 'Áron', 'Évike', 'Aimee', 'Emmy', 'Cloe', 'Hagir', 'Bridger', 'Duff', 'Sabino', 'Teodor', 'Epaphroditos', 'Faizel', 'Faizel', 'Gergõ', 'Iagan', 'Liesa', 'Cloe', 'Ixchel', 'Epaphroditos', 'Vibol', 'Dragan', 'Stéphanie', 'Ambrogio', 'Pavao', 'Damhnait', 'Ziva', 'Chatzkel', 'Hagir', 'Cameron', 'Hagir', 'Lilas', 'Lujayn', 'Gaétan', 'Vibol', 'Howell', 'Lalie', 'Hagir', 'Olavi', 'Olavi', 'Édouard', 'Duff', 'Illtyd', 'Gawel', 'Imane', 'Honorata', 'Howell', 'Keith', 'Phuong', 'Faizel', 'Rufino', 'Chatzkel', 'Gordon', 'Duff', 'Olavi', 'Ixchel', 'Teodor', 'Howell', 'Papillion', 'Epaphroditos', 'Gergõ', 'Cloe', 'Glenys', 'Mireille', 'Ágoston', 'Gawel', 'Rufino', 'Aliya', 'Nazim', 'Isolde', 'Shayla', 'Papillion', 'Sabino', 'Barbra', 'Mélanie', 'Aimee', 'Cowal', 'Keith', 'Pavao', 'Eliezer', 'Montserrat', 'Honorata', 'Papillion', 'Björn', 'Imane', 'Cain', 'Dany', 'Imane', 'Mélanie', 'Christ', 'Dragan', 'Emmy', 'Lalie', 'Papillion', 'Évike', 'Cain', 'Vittorio', 'Jari', 'Montserrat', 'Satchel', 'Évike', 'Honorata', 'Áron', 'Kirsa', 'Mireille', 'Cameron', 'Pavao', 'Isolde', 'Petru', 'Cardea', 'Áron', 'Jakob', 'Silviu', 'Cain', 'Lizzy', 'Despoina', 'Mady', 'Aliya', 'Christ', 'Olavi', 'Áron', 'Montserrat', 'Shayla', 'Gergõ', 'Jari', 'Spiridon', 'Séléna', 'Lujayn', 'Olavi', 'Lizzy', 'Rufino', 'Ixchel', 'Petru', 'Dany', 'Vibol', 'Jakob', 'Ramsay', 'Faizel', 'Yassin', 'Hagir', 'Kirsa', 'Phuong', 'Vittore', 'Glenys', 'Isolde', 'Montserrat', 'Édouard', 'Björn', 'Rufino', 'Keith', 'Rufino', 'Grwn', 'Satchel', 'Amadeo', 'Sevan', 'Faizel', 'Finn', 'Silviu', 'Séléna', 'Gordon', 'Évike', 'Barbra', 'Duff', 'Glenys', 'Iagan', 'Louis', 'Pavao', 'Mady', 'Mireille', 'Bridger', 'Montserrat', 'Honorata', 'Pavao', 'Ixchel', 'Placide', 'Keith', 'Stéphanie', 'Faizel', 'Illtyd', 'Dragan', 'Nazim', 'Satchel', 'Silviu', 'Grwn', 'Mireille', 'Liesa', 'Salomão', 'Liesa', 'Petru', 'Cain', 'Salomão', 'Cain', 'Mélanie', 'Jari', 'Sabino', 'Chatzkel', 'Gawel', 'Keith', 'Séverin', 'Barbra', 'Áron', 'Iagan', 'Jakob', 'Ambrogio', 'Papillion', 'Damhnait', 'Papillion', 'Gawel', 'Lizzy', 'Aimee', 'Epaphroditos', 'Aïcha', 'Yassin', 'Idelle', 'Naheed', 'Liesa', 'Vibol', 'Placide', 'Séléna', 'Aimee', 'Keith', 'Gergõ', 'Lizzy', 'Damhnait', 'Sevan', 'Emmy', 'Papillion', 'Mireille', 'Rufino', 'Iagan', 'Silviu', 'Finn', 'Liesa', 'Chatzkel', 'Damhnait', 'Gordon', 'Lujayn', 'Amadeo', 'Évike', 'Griffith', 'Phuong', 'Olavi', 'Shirine', 'Duff', 'Rufino', 'Duff', 'Placide', 'Ilies', 'Placide']\n",
    "    assert lecture_reseau('./newfiles/Communaute1.csv')==['Barbra', 'Cloe', 'Louis', 'Rufino', 'Idelle', 'Mady', 'Björn', 'Giedrius', 'Cloe', 'Glenys', 'Barbra', 'Vittorio', 'Mady', 'Rufino', 'Barbra', 'Marwa', 'Cloe', 'Louis', 'Björn', 'Faizel', 'Giedrius', 'Rufino', 'Mady', 'Vittore', 'Giedrius', 'Louis', 'Cloe', 'Placide', 'Cloe', 'Teodor', 'Kirsa', 'Vittorio', 'Idelle', 'Marwa', 'Placide', 'Rufino', 'Giedrius', 'Illtyd', 'Björn', 'Cloe', 'Björn', 'Rufino', 'Louis', 'Placide', 'Barbra', 'Rufino', 'Louis', 'Vittorio', 'Olavi', 'Placide', 'Rufino', 'Teodor', 'Louis', 'Olavi', 'Faizel', 'Rufino', 'Olavi', 'Vittorio', 'Barbra', 'Louis', 'Placide', 'Vittorio', 'Barbra', 'Kirsa', 'Illtyd', 'Rufino', 'Jakob', 'Mady', 'Barbra', 'Vittore', 'Björn', 'Idelle', 'Cloe', 'Vittore', 'Olavi', 'Teodor', 'Jakob', 'Placide', 'Cain', 'Vittorio', 'Barbra', 'Faizel', 'Giedrius', 'Mady', 'Kirsa', 'Vittore', 'Barbra', 'Mady', 'Jakob', 'Kirsa', 'Björn', 'Mady', 'Björn', 'Teodor', 'Cloe', 'Vittorio', 'Illtyd', 'Olavi', 'Olavi', 'Rufino', 'Giedrius', 'Glenys', 'Rufino', 'Vittorio', 'Björn', 'Olavi', 'Björn', 'Louis', 'Louis', 'Vittore', 'Mady', 'Teodor', 'Vittore', 'Vittorio', 'Faizel', 'Placide', 'Cloe', 'Mady', 'Cain', 'Placide', 'Mady', 'Vittorio', 'Cloe', 'Idelle', 'Mady', 'Placide', 'Giedrius', 'Vittorio', 'Faizel', 'Olavi', 'Björn', 'Vittore', 'Idelle', 'Illtyd', 'Barbra', 'Olavi']\n",
    "    print(\"Test de la fonction : OK\")\n",
    "test_lecture_reseau()"
   ]
  },
  {
   "cell_type": "markdown",
   "metadata": {
    "deletable": false,
    "editable": false,
    "run_control": {
     "frozen": true
    }
   },
   "source": [
    "#### Question 4 : Modélisation d'un réseau par un dictionnaire\n",
    "On préfère pour la suite, utiliser une modélisation du réseau social par un dictionnaire dont où les clés sont les prénoms des personnes du réseau et la valeur associé à une clé est le tableau des amis de la personne indiquée par la clé.\n",
    "\n",
    "- A partir d'un tableau `amis` modélisant les interactions entre personnes d'un réseau, écrire une fonction `dico_reseau(amis)` qui retourne un dictionnaire dont les clés sont les prénoms des membres du réseau et les valeurs le tableau de leurs amis."
   ]
  },
  {
   "cell_type": "code",
   "execution_count": 9,
   "metadata": {},
   "outputs": [
    {
     "name": "stdout",
     "output_type": "stream",
     "text": [
      "Test de la fonction : OK\n"
     ]
    }
   ],
   "source": [
    "def tableau_amis(prenom, amis): #On définit une fonction 'tableau_amis' qui prend comme paramètres 'prenom' et 'amis'\n",
    "    ###DOCSTRINGS###\n",
    "    \"\"\"\n",
    "    Cette fonction prend en paramètre une chaîne de caractères 'prenom',\n",
    "    et retourne un tableau des amis de 'prenom'\n",
    "    \n",
    "    Arguments : \n",
    "    prenom -- Chaîne de caractères contenu dans le tableau\n",
    "    amis -- tableau retournant la liste d'amis de 'prenom'\n",
    "    \"\"\"\n",
    "    #Séquence d'instructions de la fonction\n",
    "    t=[]\n",
    "    i=0\n",
    "    while i<len(amis): #Boucle qui nous permet d'ajouter \n",
    "        if prenom == amis[i]:\n",
    "            if i%2==0:\n",
    "                t.append(amis[i+1])\n",
    "            else :\n",
    "                t.append(amis[i-1])\n",
    "        i+=1\n",
    "    return t\n",
    "\n",
    "###########################\n",
    "######TESTS UNITAIRES######\n",
    "###########################\n",
    "def test_tableau_amis():\n",
    "    assert tableau_amis('Joël',p_amis)==['Muriel','Yasmine','Nassim','Andrea','Ali']\n",
    "    assert tableau_amis('Denis', amis)==['Bob']\n",
    "    assert tableau_amis('Muriel', p_amis)==['Yasmine', 'Joël']\n",
    "    print(\"Test de la fonction : OK\")\n",
    "test_tableau_amis()"
   ]
  },
  {
   "cell_type": "code",
   "execution_count": 11,
   "metadata": {},
   "outputs": [
    {
     "name": "stdout",
     "output_type": "stream",
     "text": [
      "Test de la fonction : OK\n"
     ]
    }
   ],
   "source": [
    "def dico_reseau(amis): #On définit une fonction 'dico_reseau' qui prend comme paramètres 'amis'\n",
    "    ###DOCSTRINGS###\n",
    "    \"\"\"\n",
    "    Cette fonction prend en paramètre un tableau et retourne un dictionnaire dont les \n",
    "    clés sont les prénoms des membres du réseau et les valeurs le tableau de leurs amis\n",
    "    \n",
    "    Arguments : \n",
    "    amis -- Tableau modélisant les interactions entre les personnes d'un réseau\n",
    "    \"\"\"\n",
    "    #Séquence d'instructions de la fonction\n",
    "    dico={} #On déclare un dictionnaire 'dico' qui est vide\n",
    "    i = 0 \n",
    "    while i < len(amis): #Boucle nous permettant d'ajouter les prénoms comme clef dans un dictionnaire et un tableau de leurs amis en valeur.\n",
    "        if amis[i] not in dico:\n",
    "            dico[amis[i]]=tableau_amis(amis[i],amis)\n",
    "        i+=1\n",
    "    return dico\n",
    "\n",
    "###########################\n",
    "######TESTS UNITAIRES######\n",
    "###########################\n",
    "def test_dico_reseau():\n",
    "    assert dico_reseau(p_amis)=={'Muriel': ['Yasmine', 'Joël'],'Yasmine': ['Muriel', 'Joël', 'Thomas'],'Joël': ['Muriel', 'Yasmine', 'Nassim', 'Andrea', 'Ali'],'Thomas': ['Yasmine', 'Daria', 'Carole'],'Daria': ['Thomas'],'Carole': ['Thomas'],'Nassim': ['Joël', 'Andrea', 'Ali'],'Andrea': ['Joël', 'Nassim', 'Ali', 'Valentin'],'Ali': ['Joël', 'Nassim', 'Andrea'],'Valentin': ['Andrea', 'Léo'],'Léo': ['Valentin', 'Thierry', 'Axel'],'Thierry': ['Léo', 'Axel'],'Axel': ['Léo', 'Thierry']}\n",
    "    assert dico_reseau(lecture_reseau('./newfiles/Communaute1.csv'))=={'Barbra': ['Cloe', 'Vittorio', 'Marwa', 'Rufino', 'Louis', 'Kirsa', 'Vittore', 'Faizel', 'Mady', 'Olavi'], 'Cloe': ['Barbra', 'Glenys', 'Louis', 'Placide', 'Teodor', 'Björn', 'Vittore', 'Vittorio', 'Mady', 'Idelle'], 'Louis': ['Rufino', 'Cloe', 'Giedrius', 'Placide', 'Vittorio', 'Olavi', 'Barbra', 'Björn', 'Vittore'], 'Rufino': ['Louis', 'Mady', 'Giedrius', 'Placide', 'Björn', 'Barbra', 'Teodor', 'Faizel', 'Illtyd', 'Olavi', 'Vittorio'], 'Idelle': ['Mady', 'Marwa', 'Björn', 'Cloe', 'Illtyd'], 'Mady': ['Idelle', 'Rufino', 'Vittore', 'Jakob', 'Giedrius', 'Barbra', 'Björn', 'Teodor', 'Cloe', 'Vittorio', 'Placide'], 'Björn': ['Giedrius', 'Faizel', 'Cloe', 'Rufino', 'Idelle', 'Mady', 'Teodor', 'Olavi', 'Louis', 'Vittore'], 'Giedrius': ['Björn', 'Rufino', 'Louis', 'Illtyd', 'Mady', 'Glenys', 'Vittorio'], 'Glenys': ['Cloe', 'Giedrius'], 'Vittorio': ['Barbra', 'Kirsa', 'Louis', 'Olavi', 'Placide', 'Cain', 'Cloe', 'Rufino', 'Vittore', 'Mady', 'Giedrius'], 'Marwa': ['Barbra', 'Idelle'], 'Faizel': ['Björn', 'Rufino', 'Barbra', 'Placide', 'Olavi'], 'Vittore': ['Mady', 'Barbra', 'Cloe', 'Kirsa', 'Louis', 'Vittorio', 'Björn'], 'Placide': ['Cloe', 'Rufino', 'Louis', 'Olavi', 'Vittorio', 'Jakob', 'Faizel', 'Cain', 'Mady'], 'Teodor': ['Cloe', 'Rufino', 'Olavi', 'Björn', 'Mady'], 'Kirsa': ['Vittorio', 'Barbra', 'Vittore', 'Jakob'], 'Illtyd': ['Giedrius', 'Rufino', 'Olavi', 'Idelle'], 'Olavi': ['Placide', 'Louis', 'Vittorio', 'Teodor', 'Illtyd', 'Rufino', 'Björn', 'Faizel', 'Barbra'], 'Jakob': ['Mady', 'Placide', 'Kirsa'], 'Cain': ['Vittorio', 'Placide']}\n",
    "    print(\"Test de la fonction : OK\")\n",
    "    \n",
    "test_dico_reseau()"
   ]
  },
  {
   "cell_type": "markdown",
   "metadata": {
    "deletable": false,
    "editable": false,
    "run_control": {
     "frozen": true
    }
   },
   "source": [
    "#### Question 5 : Nombre d'amis des personnes les plus populaires\n",
    "\n",
    "- A partir d'un dictionnaire `dico_reseau` modélisant les interactions dans un réseau d'amis, écrire une fonction `nb_amis_plus_pop (dico_reseau)` qui retourne le nombre d'amis des personnes les plus populaires du réseau."
   ]
  },
  {
   "cell_type": "code",
   "execution_count": 12,
   "metadata": {},
   "outputs": [
    {
     "name": "stdout",
     "output_type": "stream",
     "text": [
      "Test de la fonction : OK\n"
     ]
    }
   ],
   "source": [
    "def nb_amis_plus_pop(dico_reseau): #On définit une fonction 'nb_amis_plus_pop' qui prend comme paramètres 'dico_reseau'\n",
    "    ###DOCSTRINGS###\n",
    "    \"\"\"\n",
    "    Cette fonction prend en paramètre un dictionnaire et \n",
    "    retourne le nombre d'amis des personnes les plus populaires du réseau\n",
    "    \n",
    "    Arguments : \n",
    "    dico_reseau -- dictionnaire modélisant les intéractions dans un réseau d'amis\n",
    "    \"\"\"\n",
    "    #Séquence d'instructions de la fonction\n",
    "    valeurs = list(dico_reseau.values()) \n",
    "    nbmax = len(valeurs[0]) \n",
    "    i = 1 \n",
    "    while i < len(valeurs): #Boucle qui nous retourne le nombre d'amis de la personne la plus populaire du réseau\n",
    "        if len(valeurs[i]) > nbmax:\n",
    "            nbmax = len(valeurs[i])\n",
    "        i+=1 \n",
    "    return nbmax\n",
    "\n",
    "###########################\n",
    "######TESTS UNITAIRES######\n",
    "###########################\n",
    "def test_nb_amis_plus_pop():\n",
    "    assert nb_amis_plus_pop(dico_reseau(p_amis))==5\n",
    "    assert nb_amis_plus_pop(dico_reseau(amis))==2\n",
    "    assert nb_amis_plus_pop(dico_reseau(lecture_reseau('./newfiles/Communaute1.csv')))==11\n",
    "    print(\"Test de la fonction : OK\")\n",
    "\n",
    "test_nb_amis_plus_pop()"
   ]
  },
  {
   "cell_type": "markdown",
   "metadata": {
    "deletable": false,
    "editable": false,
    "run_control": {
     "frozen": true
    }
   },
   "source": [
    "#### Question 6 : Personnes les plus populaires\n",
    "\n",
    "- A partir d'un dictionnaire `dico_reseau` modélisant les interactions dans un réseau d'amis, écrire une fonction `les_plus_pop (dico_reseau)` qui retourne un tableau contenant les prénoms de toutes les personnes les plus populaires du réseau."
   ]
  },
  {
   "cell_type": "code",
   "execution_count": 40,
   "metadata": {},
   "outputs": [
    {
     "name": "stdout",
     "output_type": "stream",
     "text": [
      "Test de la fonction : OK\n"
     ]
    }
   ],
   "source": [
    "def les_plus_pop(dico_reseau): #On définit une fonction 'nb_amis_plus_pop' qui prend comme paramètres 'dico_reseau'\n",
    "    ###DOCSTRINGS###\n",
    "    \"\"\"\n",
    "    Cette fonction prend en paramètre un dictionnaire et retourne un \n",
    "    tableau contenant les prénoms des personnes les plus populaires du réseau\n",
    "    \n",
    "    Arguments : \n",
    "    dico_reseau -- dictionnaire modélisant les intéractions dans un réseau d'amis\n",
    "    \"\"\"\n",
    "    #Séquence d'instructions de la fonction\n",
    "    t=[]\n",
    "    nbmax = nb_amis_plus_pop(dico_reseau)\n",
    "    valeurs = list(dico_reseau.values())\n",
    "    clefs = list(dico_reseau.keys())\n",
    "    i=0\n",
    "    while i < len(dico_reseau): #Boucle permettant d'ajouter dans un tableau les prénoms des personnes les plus populaires\n",
    "        if len(valeurs[i]) == nbmax:\n",
    "            t.append(clefs[i])\n",
    "        i+=1\n",
    "    return t\n",
    "\n",
    "###########################\n",
    "######TESTS UNITAIRES######\n",
    "###########################\n",
    "def test_les_plus_pop():\n",
    "    assert les_plus_pop(dico_reseau(p_amis))==['Joël']\n",
    "    assert les_plus_pop(dico_reseau(amis))==['Alice','Bob']\n",
    "    assert les_plus_pop(dico_reseau(lecture_reseau('./newfiles/Communaute1.csv')))==['Rufino','Mady','Vittorio']\n",
    "    assert les_plus_pop(dico_reseau(lecture_reseau('./newfiles/Communaute2.csv')))==['Dragan', 'Séléna']\n",
    "    print(\"Test de la fonction : OK\")\n",
    "    \n",
    "test_les_plus_pop()"
   ]
  }
 ],
 "metadata": {
  "kernelspec": {
   "display_name": "Python 3 (ipykernel)",
   "language": "python",
   "name": "python3"
  },
  "language_info": {
   "codemirror_mode": {
    "name": "ipython",
    "version": 3
   },
   "file_extension": ".py",
   "mimetype": "text/x-python",
   "name": "python",
   "nbconvert_exporter": "python",
   "pygments_lexer": "ipython3",
   "version": "3.9.12"
  },
  "latex_envs": {
   "LaTeX_envs_menu_present": true,
   "autoclose": false,
   "autocomplete": true,
   "bibliofile": "biblio.bib",
   "cite_by": "apalike",
   "current_citInitial": 1,
   "eqLabelWithNumbers": true,
   "eqNumInitial": 1,
   "hotkeys": {
    "equation": "Ctrl-E",
    "itemize": "Ctrl-I"
   },
   "labels_anchors": false,
   "latex_user_defs": false,
   "report_style_numbering": false,
   "user_envs_cfg": false
  }
 },
 "nbformat": 4,
 "nbformat_minor": 2
}
