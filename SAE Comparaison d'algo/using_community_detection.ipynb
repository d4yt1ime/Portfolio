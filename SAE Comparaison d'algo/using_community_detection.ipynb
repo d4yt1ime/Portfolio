{
 "cells": [
  {
   "cell_type": "markdown",
   "metadata": {},
   "source": [
    "# Comparaison expérimentale et théorique"
   ]
  },
  {
   "cell_type": "markdown",
   "metadata": {},
   "source": [
    "### Initialisation à l'expérimentation"
   ]
  },
  {
   "cell_type": "code",
   "execution_count": 1,
   "metadata": {},
   "outputs": [],
   "source": [
    "from time import *\n",
    "\n",
    "p_amis=['Muriel','Yasmine','Muriel','Joël','Yasmine','Joël','Yasmine','Thomas','Thomas','Daria','Thomas','Carole',\n",
    "       'Joël','Nassim','Joël','Andrea','Joël','Ali','Nassim','Andrea','Nassim','Ali','Andrea','Ali','Andrea',\n",
    "        'Valentin','Léo','Valentin','Léo','Thierry','Léo','Axel','Thierry','Axel']\n",
    "\n",
    "reseau= {\n",
    "  \"Alice\" : [\"Bob\", \"Dominique\"],\n",
    "  \"Bob\" : [\"Alice\", \"Charlie\", \"Dominique\"],\n",
    "  \"Charlie\" : [\"Bob\"],\n",
    "  \"Dominique\" : [\"Alice\", \"Bob\"]\n",
    "}\n",
    "\n",
    "def liste_amis(amis, prenom):\n",
    "    \"\"\"\n",
    "        Retourne la liste des amis de prenom en fonction du tableau amis.\n",
    "    \"\"\"\n",
    "    prenoms_amis = []\n",
    "    i = 0\n",
    "    while i < len(amis)//2:\n",
    "        if amis[2 * i] == prenom:\n",
    "            prenoms_amis.append(amis[2*i+1])\n",
    "        elif amis[2*i+1] == prenom:\n",
    "            prenoms_amis.append(amis[2*i])\n",
    "        i += 1\n",
    "    return prenoms_amis\n",
    "\n",
    "def personnes_reseau(amis):\n",
    "    \"\"\" Retourne un tableau contenant la liste des personnes du réseau.\"\"\"\n",
    "    people = []\n",
    "    i = 0\n",
    "    while i < len(amis):\n",
    "        if amis[i] not in people:\n",
    "            people.append(amis[i])\n",
    "        i += 1\n",
    "    return people\n",
    "\n",
    "def all_his_friends(network, person, group):\n",
    "    liste_cles = list(network.keys())\n",
    "    i = 0\n",
    "    j = 0\n",
    "    while i < len(network):\n",
    "        if liste_cles[i] == person:\n",
    "            while j < len(group):\n",
    "                if not group[j] in network[liste_cles[i]]:\n",
    "                    return False\n",
    "                j+=1\n",
    "        i+=1\n",
    "    return True\n",
    "    \n",
    "def find_community(network, group):\n",
    "    new_group = []\n",
    "    new_group.append(group[0])\n",
    "    i = 0\n",
    "    while i < len(group)-1:\n",
    "        if all_his_friends(network, group[i+1], new_group) == True:\n",
    "            new_group.append(group[i+1])\n",
    "        i+=1\n",
    "    return(new_group) \n",
    "\n",
    "def order_by_decreasing_popularity(network, group):\n",
    "    i = 0\n",
    "    while i<len(group):\n",
    "        j=0\n",
    "        while j < len(group)-1 and len(network[group[j]])<len(network[group[j+1]]):\n",
    "            n=group[j]\n",
    "            group[j]=group[j+1]\n",
    "            group[j+1]=n\n",
    "            j+=1\n",
    "        i+=1\n",
    "    return group "
   ]
  },
  {
   "cell_type": "markdown",
   "metadata": {},
   "source": [
    "## Réponse à la question 2"
   ]
  },
  {
   "cell_type": "code",
   "execution_count": 10,
   "metadata": {},
   "outputs": [],
   "source": [
    "def create_network(list_of_friends):\n",
    "    i = 0\n",
    "    dico = {}\n",
    "    tab = []\n",
    "\n",
    "    while i < len(list_of_friends):\n",
    "        if not list_of_friends[i] in tab:\n",
    "            tab.append(list_of_friends[i])\n",
    "            if i%2==0:\n",
    "                dico[list_of_friends[i]] = [list_of_friends[i+1]]\n",
    "            else:\n",
    "                dico[list_of_friends[i]] = [list_of_friends[i-1]]\n",
    "        else:\n",
    "            if i%2==0:\n",
    "                dico[list_of_friends[i]].append(list_of_friends[i+1])\n",
    "            else:\n",
    "                dico[list_of_friends[i]].append(list_of_friends[i-1])\n",
    "        i+=1\n",
    "    return(dico)\n",
    "\n",
    "def dico_reseau(amis):\n",
    "    dico = {}\n",
    "    people = personnes_reseau(amis)\n",
    "    i = 0\n",
    "    while i < len(people):\n",
    "        dico[people[i]] = liste_amis(amis, people[i])\n",
    "        i += 1\n",
    "    return dico"
   ]
  },
  {
   "cell_type": "markdown",
   "metadata": {},
   "source": [
    "### Test expérimental, mesure du temps d'exécution"
   ]
  },
  {
   "cell_type": "code",
   "execution_count": 11,
   "metadata": {},
   "outputs": [
    {
     "name": "stdout",
     "output_type": "stream",
     "text": [
      "0.216 ms\n"
     ]
    }
   ],
   "source": [
    "tic = time()\n",
    "dico_reseau(p_amis)\n",
    "tac = time()\n",
    "print(round(1000*(tac-tic),3),\"ms\")"
   ]
  },
  {
   "cell_type": "code",
   "execution_count": 12,
   "metadata": {},
   "outputs": [
    {
     "name": "stdout",
     "output_type": "stream",
     "text": [
      "0.139 ms\n"
     ]
    }
   ],
   "source": [
    "tic = time()\n",
    "create_network(p_amis)\n",
    "tac = time()\n",
    "print(round(1000*(tac-tic),3),\"ms\")"
   ]
  },
  {
   "cell_type": "markdown",
   "metadata": {},
   "source": [
    "On constate que la fonction `create_network` s'exécute plus rapidement que la fonction `dico_reseau`."
   ]
  },
  {
   "cell_type": "markdown",
   "metadata": {},
   "source": [
    "### Comparaison théorique"
   ]
  },
  {
   "cell_type": "markdown",
   "metadata": {},
   "source": [
    "On peut expliquer les résultats du test expérimental car la fonction `dico_reseau` fait appel à d'autres fonctions. \n",
    "En effet, la complexité asymptotique de la fonction est quadratique car elle possède une boucle qui fait fait appel à d'autres fonctions, cela donne donc une boucle imbriquée avec plus d'itérations."
   ]
  },
  {
   "cell_type": "markdown",
   "metadata": {},
   "source": [
    "## Réponse à la question 11"
   ]
  },
  {
   "cell_type": "code",
   "execution_count": 13,
   "metadata": {},
   "outputs": [],
   "source": [
    "def find_community_by_decreasing_popularity(network):\n",
    "    clefs = list(network)\n",
    "    tab_tri = order_by_decreasing_popularity(network, clefs)\n",
    "    commu_max = find_community(network, tab_tri)\n",
    "    return commu_max\n",
    "\n",
    "def find_community_from_person(network, person):\n",
    "    tab = [person]\n",
    "    group = order_by_decreasing_popularity(network, network[person])\n",
    "    i = 0\n",
    "    while i < len(group):\n",
    "        if all_his_friends(network, group[i], tab):\n",
    "            tab.append(group[i])\n",
    "        i += 1\n",
    "    return tab"
   ]
  },
  {
   "cell_type": "markdown",
   "metadata": {},
   "source": [
    "### Test expérimental, mesure du temps d'exécution"
   ]
  },
  {
   "cell_type": "code",
   "execution_count": 14,
   "metadata": {},
   "outputs": [
    {
     "name": "stdout",
     "output_type": "stream",
     "text": [
      "0.131 ms\n"
     ]
    }
   ],
   "source": [
    "tic = time()\n",
    "find_community_by_decreasing_popularity(reseau)\n",
    "tac = time()\n",
    "print(round(1000*(tac-tic),3),\"ms\")"
   ]
  },
  {
   "cell_type": "code",
   "execution_count": 15,
   "metadata": {},
   "outputs": [
    {
     "name": "stdout",
     "output_type": "stream",
     "text": [
      "0.124 ms\n"
     ]
    }
   ],
   "source": [
    "tic = time()\n",
    "find_community_from_person(reseau, 'Alice')\n",
    "tac = time()\n",
    "print(round(1000*(tac-tic),3),\"ms\")"
   ]
  },
  {
   "cell_type": "markdown",
   "metadata": {},
   "source": [
    "On constate que la fonction `find_community_from_person` s'exécute plus rapidement par rapport à la fonction `find_community_by_decreasing_popularity`."
   ]
  },
  {
   "cell_type": "markdown",
   "metadata": {},
   "source": [
    "### Comparaison théorique"
   ]
  },
  {
   "cell_type": "markdown",
   "metadata": {},
   "source": [
    "On peut expliquer les résultats du test expérimental car la fonction `find_community_by_decreasing_popularity` fait appel à deux fonctions dont une qui en fait appel à une autre. En effet, même si la fonction `find_community_from_person` fait appel à deux fonctions, la complexité asymptotique de la fonction `find_community_by_decreasing_popularity` est quadratique car elle possède une fonction qui fait fait appel à une autre fonction, cela donne donc plus d'itérations."
   ]
  }
 ],
 "metadata": {
  "kernelspec": {
   "display_name": "Python 3",
   "language": "python",
   "name": "python3"
  },
  "language_info": {
   "codemirror_mode": {
    "name": "ipython",
    "version": 3
   },
   "file_extension": ".py",
   "mimetype": "text/x-python",
   "name": "python",
   "nbconvert_exporter": "python",
   "pygments_lexer": "ipython3",
   "version": "3.8.10"
  },
  "vscode": {
   "interpreter": {
    "hash": "5f372717583ff0e21570e487acd89c857fcbec009978dc22425dff2a8373f150"
   }
  }
 },
 "nbformat": 4,
 "nbformat_minor": 5
}
